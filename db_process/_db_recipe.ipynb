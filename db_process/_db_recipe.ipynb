{
 "cells": [
  {
   "cell_type": "code",
   "execution_count": 1,
   "id": "5e346dc5-f636-4305-9168-70763f422542",
   "metadata": {},
   "outputs": [
    {
     "data": {
      "text/html": [
       "<div>\n",
       "<style scoped>\n",
       "    .dataframe tbody tr th:only-of-type {\n",
       "        vertical-align: middle;\n",
       "    }\n",
       "\n",
       "    .dataframe tbody tr th {\n",
       "        vertical-align: top;\n",
       "    }\n",
       "\n",
       "    .dataframe thead th {\n",
       "        text-align: right;\n",
       "    }\n",
       "</style>\n",
       "<table border=\"1\" class=\"dataframe\">\n",
       "  <thead>\n",
       "    <tr style=\"text-align: right;\">\n",
       "      <th></th>\n",
       "      <th>rid</th>\n",
       "      <th>iName</th>\n",
       "      <th>quantity</th>\n",
       "    </tr>\n",
       "  </thead>\n",
       "  <tbody>\n",
       "    <tr>\n",
       "      <th>0</th>\n",
       "      <td>1</td>\n",
       "      <td>쌀</td>\n",
       "      <td>4컵</td>\n",
       "    </tr>\n",
       "    <tr>\n",
       "      <th>1</th>\n",
       "      <td>1</td>\n",
       "      <td>안심</td>\n",
       "      <td>200g</td>\n",
       "    </tr>\n",
       "    <tr>\n",
       "      <th>2</th>\n",
       "      <td>1</td>\n",
       "      <td>콩나물</td>\n",
       "      <td>20g</td>\n",
       "    </tr>\n",
       "    <tr>\n",
       "      <th>3</th>\n",
       "      <td>1</td>\n",
       "      <td>청포묵</td>\n",
       "      <td>1/2모</td>\n",
       "    </tr>\n",
       "    <tr>\n",
       "      <th>4</th>\n",
       "      <td>1</td>\n",
       "      <td>미나리</td>\n",
       "      <td>20g</td>\n",
       "    </tr>\n",
       "    <tr>\n",
       "      <th>...</th>\n",
       "      <td>...</td>\n",
       "      <td>...</td>\n",
       "      <td>...</td>\n",
       "    </tr>\n",
       "    <tr>\n",
       "      <th>6099</th>\n",
       "      <td>195453</td>\n",
       "      <td>호박</td>\n",
       "      <td>1/2개</td>\n",
       "    </tr>\n",
       "    <tr>\n",
       "      <th>6100</th>\n",
       "      <td>195453</td>\n",
       "      <td>대파</td>\n",
       "      <td>1대</td>\n",
       "    </tr>\n",
       "    <tr>\n",
       "      <th>6101</th>\n",
       "      <td>195453</td>\n",
       "      <td>다짐육</td>\n",
       "      <td>200g</td>\n",
       "    </tr>\n",
       "    <tr>\n",
       "      <th>6102</th>\n",
       "      <td>195453</td>\n",
       "      <td>콩비지</td>\n",
       "      <td>300g</td>\n",
       "    </tr>\n",
       "    <tr>\n",
       "      <th>6103</th>\n",
       "      <td>195453</td>\n",
       "      <td>다진마늘</td>\n",
       "      <td>1T</td>\n",
       "    </tr>\n",
       "  </tbody>\n",
       "</table>\n",
       "<p>6104 rows × 3 columns</p>\n",
       "</div>"
      ],
      "text/plain": [
       "         rid iName quantity\n",
       "0          1     쌀       4컵\n",
       "1          1    안심     200g\n",
       "2          1   콩나물      20g\n",
       "3          1   청포묵     1/2모\n",
       "4          1   미나리      20g\n",
       "...      ...   ...      ...\n",
       "6099  195453    호박     1/2개\n",
       "6100  195453    대파       1대\n",
       "6101  195453   다짐육     200g\n",
       "6102  195453   콩비지     300g\n",
       "6103  195453  다진마늘       1T\n",
       "\n",
       "[6104 rows x 3 columns]"
      ]
     },
     "execution_count": 1,
     "metadata": {},
     "output_type": "execute_result"
    }
   ],
   "source": [
    "import pymysql\n",
    "import csv\n",
    "import pandas as pd\n",
    "import numpy as np\n",
    "from sqlalchemy import create_engine\n",
    "from sqlalchemy import text\n",
    "import re\n",
    "\n",
    "# SQLAlchemy 엔진 생성\n",
    "engine = create_engine('mysql+pymysql://root:@localhost:3306/projweb1') \n",
    "conn = engine.connect()\n",
    "\n",
    "# 여러 줄 UPDATE 쿼리문 작성\n",
    "queries = [\n",
    "\"insert into recipe(rid, iName, quantity) values(26, '백포도주식초', '60g')\",\n",
    "\"insert into recipe(rid, iName, quantity) values(26, '바질', '10g')\",\n",
    "\"insert into recipe(rid, iName, quantity) values(26, '소금', '5g')\",\n",
    "\"insert into recipe(rid, iName, quantity) values(26, '후추', '5g')\",\n",
    "\"insert into recipe(rid, iName, quantity) values(26, '올리브오일', '15g')\",\n",
    "\"delete from recipe where rid = 26 AND iName ='소스'\",\n",
    "\"update recipe set iName = '대파' where rid = 526 AND iName = '대파 대'\",\n",
    "\"update recipe set iName = '깨' where rid = 537 AND iName = '깨소금'\",\n",
    "\"delete from recipe where rid = 149 AND iName ='꼬치'\",\n",
    "\"delete from recipe where rid = 515 AND iName ='생수'\",\n",
    "\"delete from recipe where rid = 522 AND iName ='육수 및 생수'\",\n",
    "\"delete from recipe where rid = 528 AND iName ='적당량의 물'\",\n",
    "\"select * from recipe where iName like '% 소금'\",\n",
    "\"update recipe set iName = '소금' where iName like '% 소금'\",\n",
    "\"select * from recipe where iName like '% 간장'\",\n",
    "\"update recipe set iName = '간장' where iName like '% 간장'\",\n",
    "\"update recipe set iName = '국멸치' where iName like '% 국멸치'\",\n",
    "\"update recipe set iName = '파' where iName like '% 다진파'\",\n",
    "\"update recipe set iName = '쇠뼈' where iName like '% 쇠뼈'\",\n",
    "\"update recipe set iName = '고춧가루' where iName like '% 고춧가루'\",\n",
    "\"update recipe set iName = '진간장' where iName like '% 진간장'\",\n",
    "\"update recipe set iName = '고추장' where iName like '% 고추장'\",\n",
    "\"update recipe set iName = '장국' where iName like '% 시판용장국'\",\n",
    "\"update recipe set iName = '' where iName like '% 시판용장국'\"]\n",
    "\n",
    "for query in queries:\n",
    "    conn.execute(text(query))\n",
    "    \n",
    "\n",
    "# SQL 쿼리\n",
    "query = \"SELECT * FROM recipe\"\n",
    "# read_sql 사용\n",
    "df = pd.read_sql(query, con=engine)\n",
    "recipe = df.copy()\n",
    "recipe"
   ]
  },
  {
   "cell_type": "code",
   "execution_count": null,
   "id": "1d44daf9-3890-432d-8816-9b5ba504aac6",
   "metadata": {},
   "outputs": [],
   "source": []
  },
  {
   "cell_type": "code",
   "execution_count": 2,
   "id": "1b23118f-8fa7-42bb-8a6e-243869813037",
   "metadata": {},
   "outputs": [],
   "source": [
    "recipe['iName'] = recipe['iName'].str.replace(' ', '')"
   ]
  },
  {
   "cell_type": "code",
   "execution_count": 3,
   "id": "c44ff75a-0713-4a88-8975-9ddddda90528",
   "metadata": {},
   "outputs": [
    {
     "data": {
      "text/plain": [
       "array(['쌀', '안심', '콩나물', '청포묵', '미나리', '소금', '국간장', '다진파', '다진마늘', '참기름',\n",
       "       '고추장', '설탕', '숙주', '도라지', '고사리', '계란', '양지머리', '멥쌀', '찹쌀', '수수',\n",
       "       '차조', '콩', '팥', '당면', '돼지고기', '표고버섯', '호박', '당근', '부추', '청고추',\n",
       "       '홍고추', '진간장', '밥', '통후추', '쇠고기', '파', '마늘', '깨소금', '고춧가루', '흑설탕',\n",
       "       '계핏가루', '깐밤', '대추', '잣', '물엿', '식물성기름', '흰설탕', '간장', '물', '청동호박',\n",
       "       '흑임자', '감자', '양파', '완두콩', '카레', '우유', '쌈장', '후춧가루', '청피망', '홍피망',\n",
       "       '오이', '전분', '멸치', '다시마', '밀가루', '애호박', '실파', '양념장', '냉면', '동치미국물',\n",
       "       '배', '식초', '쇠고기육수', '동치미무', '국수', '열무', '찹쌀가루', '대파', '다진생강', '겨자',\n",
       "       '상추', '깻잎', '녹말', '계란흰자', '오징어', '새우', '홍합', '죽순', '멸칫국물', '청주',\n",
       "       '김치', '두부', '만두피', '육수', '모시조개', '북어', '무', '미역', '다진쇠고기', '식용유',\n",
       "       '불린미역', '생태', '쌀뜨물', '연어', '레몬즙', '양송이버섯', '올리브오일', '방울토마토',\n",
       "       '페스토소스', '모듬채소', '차이브', '삶은문어살', '갑오징어', '꼴뚜기', '중새우살', '쭈꾸미',\n",
       "       '참소라살', '가리비', '검은껍질홍합', '가재새우', '샐러리', '루콜라', '트레비소', '소스', '재첩',\n",
       "       '도미', '바질', '블랙올리브', '케이퍼', '스위트마조람', '화이트와인', '계란노른자', '오레가노',\n",
       "       '그린올리브', '햇살담은간장', '느타리버섯', '꼬치', '꿀', '배즙', '생강즙', '피망', '토마토케첩',\n",
       "       '날콩가루', '생강', '상추잎', '연겨자', '적양배추잎', '파프리카', '실고추', '우엉', '토마토',\n",
       "       '다진양파', '참빛고운포도씨유', '잔멸치', '갈치', '닭', '고추', '들깨가루', '초고추장', '양념간장',\n",
       "       '칼국수면', '양배추잎', '밤', '무명실', '파슬리가루', '대구살', '목이버섯', '파인애플', '갈비',\n",
       "       '양파즙', '통깨', '월계수잎', '통마늘', '버터', '돼기고기', '레드와인', '토마토케찹', '빵가루',\n",
       "       '은행', '된장', '배추', '새우젓', '굴', '갓', '젓국', '파슬리', '청국장', '배추김치',\n",
       "       '김칫국물', '순두부', '바지락', '동태', '가래떡', '흰콩', '배춧잎', '통북어', '유부', '단무지',\n",
       "       '해파리', '게맛살', '멸치젓', '풋배추', '[절임용소금물]소금', '총각무', '고추가루',\n",
       "       '[절임용소금물]물', '배주머니', '꽃게', '술', '청정원맛선생', '아구', '싸리버섯', '조기', '명란',\n",
       "       '쑥갓', '[쇠고기양념]간장', '우거지', '팽이버섯', '어묵', '곤약', '낙지', '선지', '장조림',\n",
       "       '김', '양', '후추', '소잡뼈', '사골', '도가니', '밀국수', '까나리액젓', '석이버섯',\n",
       "       '말린표고버섯', '통생강', '[국물용소금물]소금', '연근', '조갯살', '냉이', '더덕', '꽈리고추',\n",
       "       '마른오징어', '마늘종', '녹말가루', '메주콩', '칵테일새우', '장식용어묵', '돼지갈비', '참치',\n",
       "       '문어', '고추냉이', '꽁치', '통도라지', '양배추', '넛맥', '라면', '햄', '치커리', '다시물',\n",
       "       '맛술', '와사비', '흰후춧가루', '가는파', '굵은파', '도토리묵', '고등어', '미림', '마른고추',\n",
       "       '가지', '마른새우', '골뱅이통조림', '소면', '잣가루', '스파게티', '생크림', '베이컨', '닭고기',\n",
       "       '수삼', '맛살', '후루츠칵테일', '은박컵', '식빵', '양상추', '피클', '슬라이스치즈', '들깨',\n",
       "       '머스터드', '마요네즈', '요리술', '컬리플라워', '사과', '자몽', '딸기', '오렌지마요네즈',\n",
       "       '훈제연어', '앤다이브', '트레비스', '시금치', '파마산치즈치즈', '레몬드레싱', '레몬주스', '홀토마토',\n",
       "       '프랑크소시지', '곱창', '우동면', '아귀', '미더덕', '강력분', '드라이이스트', '오렌지마멀레이드',\n",
       "       '건포도', '검은깨', '붉은고추', '무순', '쑥', '솔잎', '풋콩', '깨', '녹두', '포도씨유',\n",
       "       '쇠고기(힘줄없는부위)', '식용유/소금/참기름/잣가루', '토란', '[쇠고기양념]다진파', '튀김가루',\n",
       "       '다진파슬리', '누룽지', '적파프리카', '황파프리카', '브로콜리', '찬밥', '쌀가루', '찬물', '삶은팥',\n",
       "       '아몬드가루', '슈가파우더', '고구마줄기', '들기름', '통계피', '황설탕', '곶감', '호두', '정종',\n",
       "       '감자전분', '조개살', '굴소스', '떡국떡', '취나물', '다진풋고추', '케일', '청경채', '겨자잎',\n",
       "       '건새우가루', '달래', '청양고추', '육수용멸치', '양송이', '명란젓', '봄동', '옥수수', '풋고추',\n",
       "       '정향', '송이버섯', '말린새우', '김치잎', '근대잎', '팥삶은물', '레몬', '왜된장', '맛국물',\n",
       "       '생새우', '콘프레이크', '불린쌀', '생선살', '새우살', '게', '대하', '고구마', '얼음물',\n",
       "       '다진청고추', '다진홍고추', '녹차분말', '모짜렐라치즈', '꽃상추', '포도', '사우어크라우트', '오곡곡물',\n",
       "       '코다리', '광어', '피조개', '청어알', '연어알', '전복', '초밥', '치즈', '홍차티백',\n",
       "       '콘플레이크', '카레가루', '멸치다시물', '무즙', '비엔나소시지', '액체육젓', '생굴', '인절미',\n",
       "       '바게트', '신김치', '사이다', '조미술', '피쉬소스', '겨자가루', '닭다리', '들깻가루', '땅콩가루',\n",
       "       '조청', '맛소금', '매실장아찌', '랩', '시금치즙', '당근즙', '고들빼기', '멸치액젓', '두릅',\n",
       "       '참나물', '완두콩통조림', '옥수수통조림', '우스터소스', '아스파라거스', '풋마늘', '오이피클', '체리',\n",
       "       '땅콩버터', '케첩', '핫소스', '꽁치통조림', '다진대파', '채썬쇠고기', '춘권피', '조미료', '김칫잎',\n",
       "       '[멸치장국]국멸치', '[불고기양념]간장', '크림수프', '순대', '쫄면', '흰떡', '열무김치', '이스트',\n",
       "       '쌀국수', '다진고추', '아욱', '떡', '해삼', '두반장', '닭안심', '새송이버섯', '숙주나물',\n",
       "       '파스타', '닭봉', '닭육수', '오징어채', '칼국수', '청장', '새우젓국', '껍질콩', '대구', '기름',\n",
       "       '중국부추', '닭살', '보리', '들깻잎', '조림간장', '국멸치', '토마토페스트', '파래', '단호박',\n",
       "       '파마산치즈', '라이스페이퍼', '키위', '다시마국물', '치즈가루', '일본된장', '가쓰오브시', '양겨자',\n",
       "       '페투치네', '흰후추', '오보로', '게살', '아보카도', '박고지', '날치알', '초생강', '조',\n",
       "       '냉동만두', '올리브', '가쓰오브시국물', '흰살생선', '미원', '쇠고기스톡', '토마토페이스트',\n",
       "       '국물용멸치', '메밀국수', '맛살조개', '해초', '장어', '산초가루', '장어대리', '장어뼈', '동태살',\n",
       "       '돈까스소스', '바나나', '타바스코', '스위트콘', '고추기름', '녹말물', '간수', '우묵', '잔새우',\n",
       "       '적채', '골뱅이', '체리알', '사워크림', '청정원굴소스', '튀김기름', '치자', '맛조개', '폰즈소스',\n",
       "       '와사비소스', '깨소스', '채썬마늘', '채썬생강', '고춧기름', '생대구', '머스타드', '채소', '생밤',\n",
       "       '양념', '[절임간장]진간장', '영양부추', '쌈다시마', '무말랭이', '육회', '계란후라이', '굵은고춧가루',\n",
       "       '고운고춧가루', '크림치즈', '무,래디쉬', '간마늘', '간생강', '피시소스', '고수잎',\n",
       "       '[쇠고기육수]쇠뼈', '쇠꼬리', '팔각', '얼갈이배추', '굵은소금', '쪽파', '꽃소금', '숯', '메주',\n",
       "       '엿기름', '시럽', '호박씨', '근대', '순창콩된장', '붉은갓', '삭힌고추', '고운소금', '저민마늘',\n",
       "       '[초고추장]고추장', '녹차국수', '우무', '생수', '서리태콩', '참깨', '닭발', '통파', '전어',\n",
       "       '콩가루', '전어젓갈', '타임', '샐러드오일', '소꼬리', '시금치나물', '도라지나물', '고사리나물',\n",
       "       '고기산적', '토란탕', '멥쌀가루', '미소된장', '가다랑이포', '액젓', '[양념장]다진파', '돼지등갈비',\n",
       "       '바베큐소스', '비트', '절임무', '네모난햄', '닭가슴살', '오렌지', '허니머스터드', '참치통조림',\n",
       "       '꽃빵', '돼지고기안심', '청정원국선생', '가쯔오브시', '청정원순창쌈장', '청정원어장', '[육수]시판용장국',\n",
       "       '새싹채소', '플레인요구르트', '발효초', '초콜릿', '과일통조림', '미니파프리카', '구운김',\n",
       "       '다진돼지고기', '미소', '샐러드채소', '[배합초]소금', '[비빔양념]간장', '메기', '잉어',\n",
       "       '[양념장]고춧가루', '송어', '돼지볼살', '이태리파슬리', '그라나빠다노', '이태리고추', '사라다나',\n",
       "       '로즈마리', '브로코리', '정제수(생수)', '비트간것', '불린찹쌀', '애호박(속살)', '생수반컵',\n",
       "       '생수또는분유물(모유)', '정수물(쇠고기육수)', '불린멥쌀', '물(쇠고기육수)', '불린흑미', '육수및생수',\n",
       "       '표고', '아가용치즈', '정수물또는닭육수', '대파대', '우유적당량', '적당량의물', '진밥(멥쌀+찹쌀)',\n",
       "       '아기된장소스', '적양배추', '진밥', '소금약간', '올리브유', '빨강파프리카·노랑파프리카·청피망',\n",
       "       '굵은소금·후춧가루', '볶은소금', '맛간장', '달걀', '녹색피망', '노랑/빨강파프리카', '칠리',\n",
       "       '후추,식용유', '홍피망,청피망각각', '쇠고기(안심또는등심)', '인삼', '땅콩', '볶은흑임자(검은깨)',\n",
       "       '참쌀', '사과즙', '다시마우린물', '시래기', '절인배추', '낙지다리', '소급', '다진생각', '감동젓',\n",
       "       '슈레드치즈(모짜렐라치즈)', '찐옥수수알갱이', '무지개고추', '육수용물', '육수용무', '국물용다시마',\n",
       "       '육수용대파', '스파게티면', '파마르산치즈', '소금,후추', '소고기', '버섯', '돛나물', '매실액',\n",
       "       '파뿌리', '노란파프리카', '붉은파프리카', '미니새송이버섯', '다진쪽파', '허니머스타드', '노각',\n",
       "       '고구마잎', '피자치즈', '토마토소스', '파마산치즈가루', '호박잎', '둥근호박', '모닝빵', '슬라이스햄',\n",
       "       '어린잎채소', '마요네스', '라임', '허브(민트)', '탄산수', '얼음', '에멘탈치즈가루', '다진식파',\n",
       "       '아몬드', '백오이', '참치캔', '삶은계란', '허브솔트', '머드터드', '견과류', '부침유', '연어살',\n",
       "       '무채', '부침가루', '당근잎', '당근채', '배추잎', '다짐육(돼지고기)', '다짐육(소고기)',\n",
       "       '건블루베리', '달걀노른자', '셀러리', '중새우', '김밥용김', '다짐육', '콩비지'], dtype=object)"
      ]
     },
     "execution_count": 3,
     "metadata": {},
     "output_type": "execute_result"
    }
   ],
   "source": [
    "recipe['iName'].unique()"
   ]
  },
  {
   "cell_type": "code",
   "execution_count": 4,
   "id": "7ffb5808-76ee-4367-883c-76589cff014c",
   "metadata": {},
   "outputs": [],
   "source": [
    "recipe['iName'] = recipe['iName'].str.replace('(', '')\n",
    "recipe['iName'] = recipe['iName'].str.replace(')', '')"
   ]
  },
  {
   "cell_type": "code",
   "execution_count": 5,
   "id": "abaee96e-7644-42e4-9807-7cc52fd08b26",
   "metadata": {},
   "outputs": [],
   "source": [
    "#recipe['iName'] = np.where(recipe['iName'].str.contains('쇠고기'), '쇠고기', recipe['iName'])"
   ]
  },
  {
   "cell_type": "code",
   "execution_count": 6,
   "id": "594f5567-517f-4034-b102-d68777f890d4",
   "metadata": {},
   "outputs": [
    {
     "data": {
      "text/plain": [
       "array(['국간장', '진간장', '간장', '햇살담은간장', '양념간장', '[쇠고기양념]간장', '[불고기양념]간장',\n",
       "       '조림간장', '[절임간장]진간장', '[비빔양념]간장', '맛간장'], dtype=object)"
      ]
     },
     "execution_count": 6,
     "metadata": {},
     "output_type": "execute_result"
    }
   ],
   "source": [
    "recipe[recipe['iName'].str.contains('간장')]['iName'].unique()"
   ]
  },
  {
   "cell_type": "code",
   "execution_count": 7,
   "id": "1715cec6-9c18-4668-af7a-da644199081b",
   "metadata": {},
   "outputs": [],
   "source": [
    "recipe['iName'] = np.where(recipe['iName'].str.contains('간장'), '간장', recipe['iName'])"
   ]
  },
  {
   "cell_type": "code",
   "execution_count": 8,
   "id": "cc1e2a6c-0ad6-4690-bb9f-075bc399b4c3",
   "metadata": {},
   "outputs": [
    {
     "data": {
      "text/plain": [
       "array(['간장'], dtype=object)"
      ]
     },
     "execution_count": 8,
     "metadata": {},
     "output_type": "execute_result"
    }
   ],
   "source": [
    "recipe[recipe['iName'].str.contains('간장')]['iName'].unique()"
   ]
  },
  {
   "cell_type": "code",
   "execution_count": 9,
   "id": "7da6478b-8126-422f-a6c6-8ed815f60996",
   "metadata": {},
   "outputs": [
    {
     "data": {
      "text/plain": [
       "array(['쇠고기', '쇠고기육수', '다진쇠고기', '쇠고기힘줄없는부위', '[쇠고기양념]다진파', '채썬쇠고기',\n",
       "       '쇠고기스톡', '[쇠고기육수]쇠뼈', '정수물쇠고기육수', '물쇠고기육수', '쇠고기안심또는등심'],\n",
       "      dtype=object)"
      ]
     },
     "execution_count": 9,
     "metadata": {},
     "output_type": "execute_result"
    }
   ],
   "source": [
    "recipe[recipe['iName'].str.contains('쇠고기')]['iName'].unique()"
   ]
  },
  {
   "cell_type": "code",
   "execution_count": 10,
   "id": "65ef5385-1af2-4375-bcf0-31a410357869",
   "metadata": {},
   "outputs": [],
   "source": [
    "recipe['iName'] = np.where(recipe['iName'].str.contains('쇠고기'), recipe['iName'].str.replace('쇠고기','소고기'), recipe['iName'])"
   ]
  },
  {
   "cell_type": "code",
   "execution_count": 11,
   "id": "5d5a2811-91d3-4bec-8561-7d00b868913c",
   "metadata": {},
   "outputs": [],
   "source": [
    "recipe['iName'] = np.where(recipe['iName'].str.contains('소고기') &\\\n",
    "                           ~(recipe['iName'].str.contains('육수'))&\\\n",
    "                           ~(recipe['iName'].str.contains('스톡')), '소고기',recipe['iName'])"
   ]
  },
  {
   "cell_type": "code",
   "execution_count": 12,
   "id": "c3b3b103-99a8-4681-8d83-b48af319d471",
   "metadata": {},
   "outputs": [
    {
     "data": {
      "text/plain": [
       "array(['소고기', '소고기육수', '소고기스톡', '[소고기육수]쇠뼈', '정수물소고기육수', '물소고기육수'],\n",
       "      dtype=object)"
      ]
     },
     "execution_count": 12,
     "metadata": {},
     "output_type": "execute_result"
    }
   ],
   "source": [
    "recipe[recipe['iName'].str.contains('소고기')]['iName'].unique()"
   ]
  },
  {
   "cell_type": "code",
   "execution_count": 13,
   "id": "33039703-c4ea-464e-a568-d71e900f455d",
   "metadata": {},
   "outputs": [],
   "source": [
    "recipe['iName'] = np.where(recipe['iName'].str.contains('소고기') &\\\n",
    "                           (recipe['iName'].str.contains('육수')|\\\n",
    "                           recipe['iName'].str.contains('스톡')), '소고기육수',recipe['iName'])"
   ]
  },
  {
   "cell_type": "code",
   "execution_count": 14,
   "id": "06f97a09-3efb-4071-bd84-01201f98fe24",
   "metadata": {},
   "outputs": [
    {
     "data": {
      "text/plain": [
       "array(['소고기', '소고기육수'], dtype=object)"
      ]
     },
     "execution_count": 14,
     "metadata": {},
     "output_type": "execute_result"
    }
   ],
   "source": [
    "recipe[recipe['iName'].str.contains('소고기')]['iName'].unique()"
   ]
  },
  {
   "cell_type": "code",
   "execution_count": 15,
   "id": "45739720-877b-4758-9cd0-26dd2457556a",
   "metadata": {},
   "outputs": [
    {
     "data": {
      "text/plain": [
       "array(['소금', '깨소금', '[절임용소금물]소금', '[절임용소금물]물', '[국물용소금물]소금',\n",
       "       '식용유/소금/참기름/잣가루', '맛소금', '굵은소금', '꽃소금', '고운소금', '[배합초]소금', '소금약간',\n",
       "       '굵은소금·후춧가루', '볶은소금', '소금,후추'], dtype=object)"
      ]
     },
     "execution_count": 15,
     "metadata": {},
     "output_type": "execute_result"
    }
   ],
   "source": [
    "recipe[recipe['iName'].str.contains('소금')]['iName'].unique()"
   ]
  },
  {
   "cell_type": "code",
   "execution_count": 16,
   "id": "2f49b864-50dd-4180-8ea9-c686cbf9a1ed",
   "metadata": {},
   "outputs": [],
   "source": [
    "recipe['iName'] = np.where(recipe['iName'].str.contains('소금'), '소금', recipe['iName'])"
   ]
  },
  {
   "cell_type": "code",
   "execution_count": 17,
   "id": "07107abb-beb8-4afc-99df-825df695cf0a",
   "metadata": {},
   "outputs": [
    {
     "data": {
      "text/plain": [
       "array(['소금'], dtype=object)"
      ]
     },
     "execution_count": 17,
     "metadata": {},
     "output_type": "execute_result"
    }
   ],
   "source": [
    "recipe[recipe['iName'].str.contains('소금')]['iName'].unique()"
   ]
  },
  {
   "cell_type": "code",
   "execution_count": 18,
   "id": "5f5b412e-3e07-4424-8141-6393fad327b4",
   "metadata": {},
   "outputs": [
    {
     "data": {
      "text/plain": [
       "iName\n",
       "소금      493\n",
       "간장      263\n",
       "설탕      217\n",
       "참기름     208\n",
       "다진마늘    206\n",
       "       ... \n",
       "참나물       1\n",
       "두릅        1\n",
       "고들빼기      1\n",
       "당근즙       1\n",
       "콩비지       1\n",
       "Name: count, Length: 701, dtype: int64"
      ]
     },
     "execution_count": 18,
     "metadata": {},
     "output_type": "execute_result"
    }
   ],
   "source": [
    "recipe['iName'].value_counts()"
   ]
  },
  {
   "cell_type": "code",
   "execution_count": 19,
   "id": "b2c461e5-1194-42a0-b2df-f210807fe45a",
   "metadata": {},
   "outputs": [
    {
     "data": {
      "text/plain": [
       "array(['돼지고기', '돼지고기안심', '다진돼지고기', '다짐육돼지고기'], dtype=object)"
      ]
     },
     "execution_count": 19,
     "metadata": {},
     "output_type": "execute_result"
    }
   ],
   "source": [
    "recipe[recipe['iName'].str.contains('돼지고기')]['iName'].unique()"
   ]
  },
  {
   "cell_type": "code",
   "execution_count": 20,
   "id": "aa264f01-de9e-4c00-827e-cdf4a20ca0a4",
   "metadata": {},
   "outputs": [],
   "source": [
    "recipe['iName'] = np.where(recipe['iName'].str.contains('돼지고기'), '돼지고기', recipe['iName'])"
   ]
  },
  {
   "cell_type": "code",
   "execution_count": 21,
   "id": "0bcf57e0-6b84-4d56-9895-67741990f198",
   "metadata": {},
   "outputs": [
    {
     "data": {
      "text/plain": [
       "array(['돼지고기'], dtype=object)"
      ]
     },
     "execution_count": 21,
     "metadata": {},
     "output_type": "execute_result"
    }
   ],
   "source": [
    "recipe[recipe['iName'].str.contains('돼지고기')]['iName'].unique()"
   ]
  },
  {
   "cell_type": "code",
   "execution_count": 22,
   "id": "402ba95e-49d4-41f9-a505-81d85d37b52d",
   "metadata": {},
   "outputs": [],
   "source": [
    "recipe['iName'] = np.where(recipe['iName'].str.contains('정수물'), '물', recipe['iName'])"
   ]
  },
  {
   "cell_type": "code",
   "execution_count": 23,
   "id": "a70724d2-c9bb-4303-86fb-cd623bc2da0d",
   "metadata": {},
   "outputs": [
    {
     "data": {
      "text/plain": [
       "array(['슬라이스치즈', '파마산치즈치즈', '모짜렐라치즈', '치즈', '파마산치즈', '치즈가루', '크림치즈',\n",
       "       '아가용치즈', '슈레드치즈모짜렐라치즈', '파마르산치즈', '피자치즈', '파마산치즈가루', '에멘탈치즈가루'],\n",
       "      dtype=object)"
      ]
     },
     "execution_count": 23,
     "metadata": {},
     "output_type": "execute_result"
    }
   ],
   "source": [
    "recipe[recipe['iName'].str.contains('치즈')]['iName'].unique()"
   ]
  },
  {
   "cell_type": "code",
   "execution_count": 24,
   "id": "a7252e7a-b5da-4f75-9b5e-98ba466b9a32",
   "metadata": {},
   "outputs": [],
   "source": [
    "recipe['iName'] = np.where(recipe['iName'].str.contains('치즈'), '치즈', recipe['iName'])"
   ]
  },
  {
   "cell_type": "code",
   "execution_count": 25,
   "id": "ee616ad2-5c9b-4cac-8331-3e392fca11a6",
   "metadata": {},
   "outputs": [],
   "source": [
    "recipe['iName'] = np.where(recipe['iName'].str.contains('올리브오일'), '올리브유', recipe['iName'])"
   ]
  },
  {
   "cell_type": "code",
   "execution_count": 26,
   "id": "13bb37d2-9b2b-4071-a2d0-f5e3cc0a5a93",
   "metadata": {},
   "outputs": [
    {
     "data": {
      "text/plain": [
       "array(['파프리카', '적파프리카', '황파프리카', '미니파프리카', '빨강파프리카·노랑파프리카·청피망',\n",
       "       '노랑/빨강파프리카', '노란파프리카', '붉은파프리카'], dtype=object)"
      ]
     },
     "execution_count": 26,
     "metadata": {},
     "output_type": "execute_result"
    }
   ],
   "source": [
    "recipe[recipe['iName'].str.contains('파프리카')]['iName'].unique()"
   ]
  },
  {
   "cell_type": "code",
   "execution_count": 27,
   "id": "27575fc1-63dc-426d-905c-4f5fc58d1197",
   "metadata": {},
   "outputs": [],
   "source": [
    "recipe['iName'] = np.where(recipe['iName'].str.contains('파프리카'), '파프리카', recipe['iName'])"
   ]
  },
  {
   "cell_type": "code",
   "execution_count": 28,
   "id": "6d666e34-ab7c-4653-839c-73f570b08b5e",
   "metadata": {},
   "outputs": [
    {
     "data": {
      "text/plain": [
       "array(['다시마', '다시마국물', '쌈다시마', '다시마우린물', '국물용다시마'], dtype=object)"
      ]
     },
     "execution_count": 28,
     "metadata": {},
     "output_type": "execute_result"
    }
   ],
   "source": [
    "recipe[recipe['iName'].str.contains('다시마')]['iName'].unique()"
   ]
  },
  {
   "cell_type": "code",
   "execution_count": 29,
   "id": "fcfbebfa-7c8b-45bc-8f48-37fde314c6f0",
   "metadata": {},
   "outputs": [],
   "source": [
    "recipe['iName'] = np.where(recipe['iName'].str.contains('다시마우') |recipe['iName'].str.contains('다시마국') , '다시마육수', recipe['iName'])"
   ]
  },
  {
   "cell_type": "code",
   "execution_count": 30,
   "id": "2bb483c1-b433-4e56-83d1-e481fb686cab",
   "metadata": {},
   "outputs": [],
   "source": [
    "recipe['iName'] = np.where(recipe['iName'].str.contains('용다시마'), '다시마', recipe['iName'])"
   ]
  },
  {
   "cell_type": "code",
   "execution_count": 31,
   "id": "700c8034-f030-4b91-a154-7376fc29804b",
   "metadata": {},
   "outputs": [
    {
     "data": {
      "text/plain": [
       "array(['닭', '닭고기', '닭다리', '닭안심', '닭봉', '닭육수', '닭살', '닭발', '닭가슴살'],\n",
       "      dtype=object)"
      ]
     },
     "execution_count": 31,
     "metadata": {},
     "output_type": "execute_result"
    }
   ],
   "source": [
    "recipe[recipe['iName'].str.contains('닭')]['iName'].unique()"
   ]
  },
  {
   "cell_type": "code",
   "execution_count": 32,
   "id": "0fbe5209-5dcf-4887-bcb8-d81c14f2a777",
   "metadata": {},
   "outputs": [],
   "source": [
    "recipe['iName'] = np.where(recipe['iName'].str.contains('닭') & ~(recipe['iName'] == '닭발') , '닭고기', recipe['iName'])"
   ]
  },
  {
   "cell_type": "code",
   "execution_count": 33,
   "id": "48fabf21-dd58-44d2-b464-44aaba8e47d3",
   "metadata": {},
   "outputs": [
    {
     "data": {
      "text/plain": [
       "array(['모듬채소', '채소', '새싹채소', '샐러드채소', '어린잎채소'], dtype=object)"
      ]
     },
     "execution_count": 33,
     "metadata": {},
     "output_type": "execute_result"
    }
   ],
   "source": [
    "recipe[recipe['iName'].str.contains('채소')]['iName'].unique()"
   ]
  },
  {
   "cell_type": "code",
   "execution_count": 34,
   "id": "ce1b85a3-333e-4a62-ad7f-814ca4547ee5",
   "metadata": {},
   "outputs": [
    {
     "data": {
      "text/plain": [
       "array(['브로콜리', '브로코리'], dtype=object)"
      ]
     },
     "execution_count": 34,
     "metadata": {},
     "output_type": "execute_result"
    }
   ],
   "source": [
    "recipe[recipe['iName'].str.contains('브로')]['iName'].unique()"
   ]
  },
  {
   "cell_type": "code",
   "execution_count": 35,
   "id": "c1939d5d-4794-470a-90ab-90842b81b951",
   "metadata": {},
   "outputs": [],
   "source": [
    "recipe['iName'] = np.where(recipe['iName'].str.contains('브로'), '브로콜리', recipe['iName'])"
   ]
  },
  {
   "cell_type": "code",
   "execution_count": 36,
   "id": "50382b1a-9d4a-4b1a-a312-2c0b4811b45b",
   "metadata": {},
   "outputs": [
    {
     "data": {
      "text/plain": [
       "array(['루콜라', '브로콜리', '초콜릿'], dtype=object)"
      ]
     },
     "execution_count": 36,
     "metadata": {},
     "output_type": "execute_result"
    }
   ],
   "source": [
    "recipe[recipe['iName'].str.contains('콜')]['iName'].unique()"
   ]
  },
  {
   "cell_type": "code",
   "execution_count": 37,
   "id": "5c5277f8-0b20-4792-ab77-5c3f29f6f755",
   "metadata": {},
   "outputs": [
    {
     "data": {
      "text/plain": [
       "array(['쌀', '안심', '콩나물', '청포묵', '미나리', '소금', '간장', '다진파', '다진마늘', '참기름',\n",
       "       '고추장', '설탕', '숙주', '도라지', '고사리', '계란', '양지머리', '멥쌀', '찹쌀', '수수',\n",
       "       '차조', '콩', '팥', '당면', '돼지고기', '표고버섯', '호박', '당근', '부추', '청고추',\n",
       "       '홍고추', '밥', '통후추', '소고기', '파', '마늘', '고춧가루', '흑설탕', '계핏가루', '깐밤',\n",
       "       '대추', '잣', '물엿', '식물성기름', '흰설탕', '물', '청동호박', '흑임자', '감자', '양파',\n",
       "       '완두콩', '카레', '우유', '쌈장', '후춧가루', '청피망', '홍피망', '오이', '전분', '멸치',\n",
       "       '다시마', '밀가루', '애호박', '실파', '양념장', '냉면', '동치미국물', '배', '식초',\n",
       "       '소고기육수', '동치미무', '국수', '열무', '찹쌀가루', '대파', '다진생강', '겨자', '상추',\n",
       "       '깻잎', '녹말', '계란흰자', '오징어', '새우', '홍합', '죽순', '멸칫국물', '청주', '김치',\n",
       "       '두부', '만두피', '육수', '모시조개', '북어', '무', '미역', '식용유', '불린미역', '생태',\n",
       "       '쌀뜨물', '연어', '레몬즙', '양송이버섯', '올리브유', '방울토마토', '페스토소스', '모듬채소',\n",
       "       '차이브', '삶은문어살', '갑오징어', '꼴뚜기', '중새우살', '쭈꾸미', '참소라살', '가리비',\n",
       "       '검은껍질홍합', '가재새우', '샐러리', '루콜라', '트레비소', '소스', '재첩', '도미', '바질',\n",
       "       '블랙올리브', '케이퍼', '스위트마조람', '화이트와인', '계란노른자', '오레가노', '그린올리브',\n",
       "       '느타리버섯', '꼬치', '꿀', '배즙', '생강즙', '피망', '토마토케첩', '날콩가루', '생강',\n",
       "       '상추잎', '연겨자', '적양배추잎', '파프리카', '실고추', '우엉', '토마토', '다진양파',\n",
       "       '참빛고운포도씨유', '잔멸치', '갈치', '닭고기', '고추', '들깨가루', '초고추장', '칼국수면',\n",
       "       '양배추잎', '밤', '무명실', '파슬리가루', '대구살', '목이버섯', '파인애플', '갈비', '양파즙',\n",
       "       '통깨', '월계수잎', '통마늘', '버터', '돼기고기', '레드와인', '토마토케찹', '빵가루', '은행',\n",
       "       '된장', '배추', '새우젓', '굴', '갓', '젓국', '파슬리', '청국장', '배추김치', '김칫국물',\n",
       "       '순두부', '바지락', '동태', '가래떡', '흰콩', '배춧잎', '통북어', '유부', '단무지', '해파리',\n",
       "       '게맛살', '멸치젓', '풋배추', '총각무', '고추가루', '배주머니', '꽃게', '술', '청정원맛선생',\n",
       "       '아구', '싸리버섯', '조기', '명란', '쑥갓', '우거지', '팽이버섯', '어묵', '곤약', '낙지',\n",
       "       '선지', '장조림', '김', '양', '후추', '소잡뼈', '사골', '도가니', '밀국수', '까나리액젓',\n",
       "       '석이버섯', '말린표고버섯', '통생강', '연근', '조갯살', '냉이', '더덕', '꽈리고추', '마른오징어',\n",
       "       '마늘종', '녹말가루', '메주콩', '칵테일새우', '장식용어묵', '돼지갈비', '참치', '문어', '고추냉이',\n",
       "       '꽁치', '통도라지', '양배추', '넛맥', '라면', '햄', '치커리', '다시물', '맛술', '와사비',\n",
       "       '흰후춧가루', '가는파', '굵은파', '도토리묵', '고등어', '미림', '마른고추', '가지', '마른새우',\n",
       "       '골뱅이통조림', '소면', '잣가루', '스파게티', '생크림', '베이컨', '수삼', '맛살', '후루츠칵테일',\n",
       "       '은박컵', '식빵', '양상추', '피클', '치즈', '들깨', '머스터드', '마요네즈', '요리술',\n",
       "       '컬리플라워', '사과', '자몽', '딸기', '오렌지마요네즈', '훈제연어', '앤다이브', '트레비스',\n",
       "       '시금치', '레몬드레싱', '레몬주스', '홀토마토', '프랑크소시지', '곱창', '우동면', '아귀', '미더덕',\n",
       "       '강력분', '드라이이스트', '오렌지마멀레이드', '건포도', '검은깨', '붉은고추', '무순', '쑥', '솔잎',\n",
       "       '풋콩', '깨', '녹두', '포도씨유', '토란', '튀김가루', '다진파슬리', '누룽지', '브로콜리',\n",
       "       '찬밥', '쌀가루', '찬물', '삶은팥', '아몬드가루', '슈가파우더', '고구마줄기', '들기름', '통계피',\n",
       "       '황설탕', '곶감', '호두', '정종', '감자전분', '조개살', '굴소스', '떡국떡', '취나물',\n",
       "       '다진풋고추', '케일', '청경채', '겨자잎', '건새우가루', '달래', '청양고추', '육수용멸치', '양송이',\n",
       "       '명란젓', '봄동', '옥수수', '풋고추', '정향', '송이버섯', '말린새우', '김치잎', '근대잎',\n",
       "       '팥삶은물', '레몬', '왜된장', '맛국물', '생새우', '콘프레이크', '불린쌀', '생선살', '새우살',\n",
       "       '게', '대하', '고구마', '얼음물', '다진청고추', '다진홍고추', '녹차분말', '꽃상추', '포도',\n",
       "       '사우어크라우트', '오곡곡물', '코다리', '광어', '피조개', '청어알', '연어알', '전복', '초밥',\n",
       "       '홍차티백', '콘플레이크', '카레가루', '멸치다시물', '무즙', '비엔나소시지', '액체육젓', '생굴',\n",
       "       '인절미', '바게트', '신김치', '사이다', '조미술', '피쉬소스', '겨자가루', '들깻가루', '땅콩가루',\n",
       "       '조청', '매실장아찌', '랩', '시금치즙', '당근즙', '고들빼기', '멸치액젓', '두릅', '참나물',\n",
       "       '완두콩통조림', '옥수수통조림', '우스터소스', '아스파라거스', '풋마늘', '오이피클', '체리', '땅콩버터',\n",
       "       '케첩', '핫소스', '꽁치통조림', '다진대파', '춘권피', '조미료', '김칫잎', '[멸치장국]국멸치',\n",
       "       '크림수프', '순대', '쫄면', '흰떡', '열무김치', '이스트', '쌀국수', '다진고추', '아욱', '떡',\n",
       "       '해삼', '두반장', '새송이버섯', '숙주나물', '파스타', '오징어채', '칼국수', '청장', '새우젓국',\n",
       "       '껍질콩', '대구', '기름', '중국부추', '보리', '들깻잎', '국멸치', '토마토페스트', '파래',\n",
       "       '단호박', '라이스페이퍼', '키위', '다시마육수', '일본된장', '가쓰오브시', '양겨자', '페투치네',\n",
       "       '흰후추', '오보로', '게살', '아보카도', '박고지', '날치알', '초생강', '조', '냉동만두',\n",
       "       '올리브', '가쓰오브시국물', '흰살생선', '미원', '토마토페이스트', '국물용멸치', '메밀국수', '맛살조개',\n",
       "       '해초', '장어', '산초가루', '장어대리', '장어뼈', '동태살', '돈까스소스', '바나나', '타바스코',\n",
       "       '스위트콘', '고추기름', '녹말물', '간수', '우묵', '잔새우', '적채', '골뱅이', '체리알',\n",
       "       '사워크림', '청정원굴소스', '튀김기름', '치자', '맛조개', '폰즈소스', '와사비소스', '깨소스',\n",
       "       '채썬마늘', '채썬생강', '고춧기름', '생대구', '머스타드', '채소', '생밤', '양념', '영양부추',\n",
       "       '쌈다시마', '무말랭이', '육회', '계란후라이', '굵은고춧가루', '고운고춧가루', '무,래디쉬', '간마늘',\n",
       "       '간생강', '피시소스', '고수잎', '쇠꼬리', '팔각', '얼갈이배추', '쪽파', '숯', '메주', '엿기름',\n",
       "       '시럽', '호박씨', '근대', '순창콩된장', '붉은갓', '삭힌고추', '저민마늘', '[초고추장]고추장',\n",
       "       '녹차국수', '우무', '생수', '서리태콩', '참깨', '닭발', '통파', '전어', '콩가루', '전어젓갈',\n",
       "       '타임', '샐러드오일', '소꼬리', '시금치나물', '도라지나물', '고사리나물', '고기산적', '토란탕',\n",
       "       '멥쌀가루', '미소된장', '가다랑이포', '액젓', '[양념장]다진파', '돼지등갈비', '바베큐소스', '비트',\n",
       "       '절임무', '네모난햄', '오렌지', '허니머스터드', '참치통조림', '꽃빵', '청정원국선생', '가쯔오브시',\n",
       "       '청정원순창쌈장', '청정원어장', '[육수]시판용장국', '새싹채소', '플레인요구르트', '발효초', '초콜릿',\n",
       "       '과일통조림', '구운김', '미소', '샐러드채소', '메기', '잉어', '[양념장]고춧가루', '송어',\n",
       "       '돼지볼살', '이태리파슬리', '그라나빠다노', '이태리고추', '사라다나', '로즈마리', '정제수생수',\n",
       "       '비트간것', '불린찹쌀', '애호박속살', '생수반컵', '생수또는분유물모유', '불린멥쌀', '불린흑미',\n",
       "       '육수및생수', '표고', '대파대', '우유적당량', '적당량의물', '진밥멥쌀+찹쌀', '아기된장소스',\n",
       "       '적양배추', '진밥', '달걀', '녹색피망', '칠리', '후추,식용유', '홍피망,청피망각각', '인삼',\n",
       "       '땅콩', '볶은흑임자검은깨', '참쌀', '사과즙', '시래기', '절인배추', '낙지다리', '소급', '다진생각',\n",
       "       '감동젓', '찐옥수수알갱이', '무지개고추', '육수용물', '육수용무', '육수용대파', '스파게티면', '버섯',\n",
       "       '돛나물', '매실액', '파뿌리', '미니새송이버섯', '다진쪽파', '허니머스타드', '노각', '고구마잎',\n",
       "       '토마토소스', '호박잎', '둥근호박', '모닝빵', '슬라이스햄', '어린잎채소', '마요네스', '라임',\n",
       "       '허브민트', '탄산수', '얼음', '다진식파', '아몬드', '백오이', '참치캔', '삶은계란', '허브솔트',\n",
       "       '머드터드', '견과류', '부침유', '연어살', '무채', '부침가루', '당근잎', '당근채', '배추잎',\n",
       "       '건블루베리', '달걀노른자', '셀러리', '중새우', '김밥용김', '다짐육', '콩비지'], dtype=object)"
      ]
     },
     "execution_count": 37,
     "metadata": {},
     "output_type": "execute_result"
    }
   ],
   "source": [
    "recipe['iName'].unique()"
   ]
  },
  {
   "cell_type": "code",
   "execution_count": 38,
   "id": "6848353c-1fd2-444d-a216-97524f4cff12",
   "metadata": {},
   "outputs": [
    {
     "data": {
      "text/plain": [
       "array(['다진마늘', '마늘', '통마늘', '마늘종', '풋마늘', '채썬마늘', '간마늘', '저민마늘'],\n",
       "      dtype=object)"
      ]
     },
     "execution_count": 38,
     "metadata": {},
     "output_type": "execute_result"
    }
   ],
   "source": [
    "recipe[recipe['iName'].str.contains('마늘')]['iName'].unique()"
   ]
  },
  {
   "cell_type": "code",
   "execution_count": 39,
   "id": "31f1a7e5-5f40-444c-959c-0de7a064e9ea",
   "metadata": {},
   "outputs": [],
   "source": [
    "recipe['iName'] = np.where(recipe['iName'].str.contains('마늘') & ~recipe['iName'].str.contains('종'), '마늘', recipe['iName'])"
   ]
  },
  {
   "cell_type": "code",
   "execution_count": 40,
   "id": "f0147397-1257-4525-8f3c-9e96fcae0818",
   "metadata": {},
   "outputs": [
    {
     "data": {
      "text/plain": [
       "array(['동치미무', '열무', '무', '무명실', '단무지', '총각무', '무순', '무즙', '열무김치', '무말랭이',\n",
       "       '무,래디쉬', '우무', '절임무', '무지개고추', '육수용무', '무채'], dtype=object)"
      ]
     },
     "execution_count": 40,
     "metadata": {},
     "output_type": "execute_result"
    }
   ],
   "source": [
    "recipe[recipe['iName'].str.contains('무')]['iName'].unique()"
   ]
  },
  {
   "cell_type": "code",
   "execution_count": 41,
   "id": "21a80124-cb03-4f3c-a50b-db3aba3e2f2e",
   "metadata": {},
   "outputs": [],
   "source": [
    "recipe['iName'] = np.where(recipe['iName'].str.contains('무,') | recipe['iName'].str.contains('육수용무'), '마늘', recipe['iName'])"
   ]
  },
  {
   "cell_type": "code",
   "execution_count": 42,
   "id": "1853fff7-5e5a-49ba-b68f-6852cffde40a",
   "metadata": {},
   "outputs": [
    {
     "data": {
      "text/plain": [
       "array(['다진파', '다진생강', '다진양파', '다진파슬리', '다진풋고추', '다진청고추', '다진홍고추', '다진대파',\n",
       "       '다진고추', '[양념장]다진파', '다진생각', '다진쪽파', '다진식파'], dtype=object)"
      ]
     },
     "execution_count": 42,
     "metadata": {},
     "output_type": "execute_result"
    }
   ],
   "source": [
    "recipe[recipe['iName'].str.contains('다진')]['iName'].unique()"
   ]
  },
  {
   "cell_type": "code",
   "execution_count": 43,
   "id": "f7570016-c9c0-4425-83b9-41b3948349e9",
   "metadata": {},
   "outputs": [],
   "source": [
    "recipe['iName'] = np.where(recipe['iName'].str.contains('다진'), recipe['iName'].str.replace('다진', ''), recipe['iName'])"
   ]
  },
  {
   "cell_type": "code",
   "execution_count": 44,
   "id": "85a13331-c955-42da-917c-e5c33f2938b8",
   "metadata": {},
   "outputs": [
    {
     "data": {
      "text/plain": [
       "array(['생수', '정제수생수', '생수반컵', '생수또는분유물모유', '육수및생수'], dtype=object)"
      ]
     },
     "execution_count": 44,
     "metadata": {},
     "output_type": "execute_result"
    }
   ],
   "source": [
    "recipe[recipe['iName'].str.contains('생수')]['iName'].unique()"
   ]
  },
  {
   "cell_type": "code",
   "execution_count": 45,
   "id": "a0e01405-afc7-4245-8499-3d81f2bb1df4",
   "metadata": {},
   "outputs": [],
   "source": [
    "recipe['iName'] = np.where(recipe['iName'].str.contains('생수'), '생수', recipe['iName'])"
   ]
  },
  {
   "cell_type": "code",
   "execution_count": 46,
   "id": "c9f391dc-1080-4036-aa8a-54ac9afb32d5",
   "metadata": {},
   "outputs": [
    {
     "data": {
      "text/plain": [
       "array(['쇠꼬리'], dtype=object)"
      ]
     },
     "execution_count": 46,
     "metadata": {},
     "output_type": "execute_result"
    }
   ],
   "source": [
    "recipe[recipe['iName'].str.contains('쇠')]['iName'].unique()"
   ]
  },
  {
   "cell_type": "code",
   "execution_count": 47,
   "id": "89120100-688e-4455-b1ff-cef463dcfe06",
   "metadata": {},
   "outputs": [
    {
     "data": {
      "text/plain": [
       "array(['고추장', '청고추', '홍고추', '실고추', '고추', '초고추장', '고추가루', '꽈리고추', '고추냉이',\n",
       "       '마른고추', '붉은고추', '풋고추', '청양고추', '고추기름', '삭힌고추', '[초고추장]고추장',\n",
       "       '이태리고추', '무지개고추'], dtype=object)"
      ]
     },
     "execution_count": 47,
     "metadata": {},
     "output_type": "execute_result"
    }
   ],
   "source": [
    "recipe[recipe['iName'].str.contains('고추')]['iName'].unique()"
   ]
  },
  {
   "cell_type": "code",
   "execution_count": 48,
   "id": "42cd05bb-a4f5-4e15-9332-46b13907a06a",
   "metadata": {},
   "outputs": [],
   "source": [
    "recipe['iName'] = np.where(recipe['iName'].str.contains('고춧가루'), '고추가루', recipe['iName'])"
   ]
  },
  {
   "cell_type": "code",
   "execution_count": 49,
   "id": "93fbedaf-a33a-45af-a5e2-76c8a9dd75d3",
   "metadata": {},
   "outputs": [],
   "source": [
    "recipe['iName'] = np.where(recipe['iName'].str.contains('고춧기름'), '고추기름', recipe['iName'])"
   ]
  },
  {
   "cell_type": "code",
   "execution_count": 50,
   "id": "9c98e5da-038a-491e-8598-e5f075f7d227",
   "metadata": {},
   "outputs": [],
   "source": [
    "recipe['iName'] = np.where(recipe['iName'].str.contains('대파'), '대파', recipe['iName'])"
   ]
  },
  {
   "cell_type": "code",
   "execution_count": 51,
   "id": "eb865e9f-83eb-48ba-849c-3ec25986d00d",
   "metadata": {},
   "outputs": [],
   "source": [
    "recipe['iName'] = np.where(recipe['iName'].str.contains('국멸치'), '국멸치', recipe['iName'])\n",
    "recipe['iName'] = np.where(recipe['iName'].str.contains('양념장') & recipe['iName'].str.contains('파'), '파', recipe['iName'])\n",
    "recipe['iName'] = np.where(recipe['iName'].str.contains('시판용장국'), '장국', recipe['iName'])\n",
    "recipe['iName'] = np.where(recipe['iName'].str.contains('[초고추장]고추장'), '고추장', recipe['iName'])\t"
   ]
  },
  {
   "cell_type": "code",
   "execution_count": 52,
   "id": "fc83553d-98cd-4ffb-b0df-a38614750a8b",
   "metadata": {},
   "outputs": [
    {
     "data": {
      "text/plain": [
       "array(['머스타드', '허니머스타드'], dtype=object)"
      ]
     },
     "execution_count": 52,
     "metadata": {},
     "output_type": "execute_result"
    }
   ],
   "source": [
    "recipe[recipe['iName'].str.contains('머스타드')]['iName'].unique()"
   ]
  },
  {
   "cell_type": "code",
   "execution_count": null,
   "id": "61f3197d-f4af-4d09-989c-317dcf6b5123",
   "metadata": {},
   "outputs": [],
   "source": []
  },
  {
   "cell_type": "code",
   "execution_count": 53,
   "id": "23e6dc59-8277-475d-bd8c-51c5c8cdf100",
   "metadata": {},
   "outputs": [],
   "source": [
    "recipe['iName'] = np.where(recipe['iName'].str.contains('터드'), recipe['iName'].str.replace('터드', '타드'), recipe['iName'])"
   ]
  },
  {
   "cell_type": "code",
   "execution_count": 54,
   "id": "77adda99-3ba0-4f87-ba61-f35fb8d49440",
   "metadata": {},
   "outputs": [
    {
     "data": {
      "text/html": [
       "<div>\n",
       "<style scoped>\n",
       "    .dataframe tbody tr th:only-of-type {\n",
       "        vertical-align: middle;\n",
       "    }\n",
       "\n",
       "    .dataframe tbody tr th {\n",
       "        vertical-align: top;\n",
       "    }\n",
       "\n",
       "    .dataframe thead th {\n",
       "        text-align: right;\n",
       "    }\n",
       "</style>\n",
       "<table border=\"1\" class=\"dataframe\">\n",
       "  <thead>\n",
       "    <tr style=\"text-align: right;\">\n",
       "      <th></th>\n",
       "      <th>rid</th>\n",
       "      <th>iName</th>\n",
       "      <th>quantity</th>\n",
       "    </tr>\n",
       "  </thead>\n",
       "  <tbody>\n",
       "    <tr>\n",
       "      <th>0</th>\n",
       "      <td>1</td>\n",
       "      <td>쌀</td>\n",
       "      <td>4컵</td>\n",
       "    </tr>\n",
       "    <tr>\n",
       "      <th>1</th>\n",
       "      <td>1</td>\n",
       "      <td>안심</td>\n",
       "      <td>200g</td>\n",
       "    </tr>\n",
       "    <tr>\n",
       "      <th>2</th>\n",
       "      <td>1</td>\n",
       "      <td>콩나물</td>\n",
       "      <td>20g</td>\n",
       "    </tr>\n",
       "    <tr>\n",
       "      <th>3</th>\n",
       "      <td>1</td>\n",
       "      <td>청포묵</td>\n",
       "      <td>1/2모</td>\n",
       "    </tr>\n",
       "    <tr>\n",
       "      <th>4</th>\n",
       "      <td>1</td>\n",
       "      <td>미나리</td>\n",
       "      <td>20g</td>\n",
       "    </tr>\n",
       "    <tr>\n",
       "      <th>...</th>\n",
       "      <td>...</td>\n",
       "      <td>...</td>\n",
       "      <td>...</td>\n",
       "    </tr>\n",
       "    <tr>\n",
       "      <th>6099</th>\n",
       "      <td>195453</td>\n",
       "      <td>호박</td>\n",
       "      <td>1/2개</td>\n",
       "    </tr>\n",
       "    <tr>\n",
       "      <th>6100</th>\n",
       "      <td>195453</td>\n",
       "      <td>대파</td>\n",
       "      <td>1대</td>\n",
       "    </tr>\n",
       "    <tr>\n",
       "      <th>6101</th>\n",
       "      <td>195453</td>\n",
       "      <td>다짐육</td>\n",
       "      <td>200g</td>\n",
       "    </tr>\n",
       "    <tr>\n",
       "      <th>6102</th>\n",
       "      <td>195453</td>\n",
       "      <td>콩비지</td>\n",
       "      <td>300g</td>\n",
       "    </tr>\n",
       "    <tr>\n",
       "      <th>6103</th>\n",
       "      <td>195453</td>\n",
       "      <td>마늘</td>\n",
       "      <td>1T</td>\n",
       "    </tr>\n",
       "  </tbody>\n",
       "</table>\n",
       "<p>6104 rows × 3 columns</p>\n",
       "</div>"
      ],
      "text/plain": [
       "         rid iName quantity\n",
       "0          1     쌀       4컵\n",
       "1          1    안심     200g\n",
       "2          1   콩나물      20g\n",
       "3          1   청포묵     1/2모\n",
       "4          1   미나리      20g\n",
       "...      ...   ...      ...\n",
       "6099  195453    호박     1/2개\n",
       "6100  195453    대파       1대\n",
       "6101  195453   다짐육     200g\n",
       "6102  195453   콩비지     300g\n",
       "6103  195453    마늘       1T\n",
       "\n",
       "[6104 rows x 3 columns]"
      ]
     },
     "execution_count": 54,
     "metadata": {},
     "output_type": "execute_result"
    }
   ],
   "source": [
    "recipe"
   ]
  },
  {
   "cell_type": "code",
   "execution_count": 55,
   "id": "ee9f8665-20c7-40a3-9145-f395e4ef3999",
   "metadata": {},
   "outputs": [
    {
     "data": {
      "text/plain": [
       "6104"
      ]
     },
     "execution_count": 55,
     "metadata": {},
     "output_type": "execute_result"
    }
   ],
   "source": [
    "recipe.to_sql(name='good_recipe', con=engine, if_exists='replace', index=False)"
   ]
  },
  {
   "cell_type": "code",
   "execution_count": 126,
   "id": "a53fb668-f300-4e1d-8ff7-d2d1f4fe9917",
   "metadata": {},
   "outputs": [],
   "source": [
    "iName = recipe[['iName']]"
   ]
  },
  {
   "cell_type": "code",
   "execution_count": 132,
   "id": "05e88515-0637-475c-9744-f4bb5c9971b6",
   "metadata": {},
   "outputs": [],
   "source": [
    "iName = iName.drop_duplicates().sort_values('iName')"
   ]
  },
  {
   "cell_type": "code",
   "execution_count": 134,
   "id": "f3c42878-e41c-4ece-91e2-93a05d47f8c8",
   "metadata": {},
   "outputs": [
    {
     "data": {
      "text/html": [
       "<div>\n",
       "<style scoped>\n",
       "    .dataframe tbody tr th:only-of-type {\n",
       "        vertical-align: middle;\n",
       "    }\n",
       "\n",
       "    .dataframe tbody tr th {\n",
       "        vertical-align: top;\n",
       "    }\n",
       "\n",
       "    .dataframe thead th {\n",
       "        text-align: right;\n",
       "    }\n",
       "</style>\n",
       "<table border=\"1\" class=\"dataframe\">\n",
       "  <thead>\n",
       "    <tr style=\"text-align: right;\">\n",
       "      <th></th>\n",
       "      <th>iName</th>\n",
       "    </tr>\n",
       "  </thead>\n",
       "  <tbody>\n",
       "    <tr>\n",
       "      <th>1353</th>\n",
       "      <td>가는파</td>\n",
       "    </tr>\n",
       "    <tr>\n",
       "      <th>5155</th>\n",
       "      <td>가다랑이포</td>\n",
       "    </tr>\n",
       "    <tr>\n",
       "      <th>625</th>\n",
       "      <td>가래떡</td>\n",
       "    </tr>\n",
       "    <tr>\n",
       "      <th>276</th>\n",
       "      <td>가리비</td>\n",
       "    </tr>\n",
       "    <tr>\n",
       "      <th>3941</th>\n",
       "      <td>가쓰오브시</td>\n",
       "    </tr>\n",
       "    <tr>\n",
       "      <th>...</th>\n",
       "      <td>...</td>\n",
       "    </tr>\n",
       "    <tr>\n",
       "      <th>4066</th>\n",
       "      <td>흰살생선</td>\n",
       "    </tr>\n",
       "    <tr>\n",
       "      <th>58</th>\n",
       "      <td>흰설탕</td>\n",
       "    </tr>\n",
       "    <tr>\n",
       "      <th>632</th>\n",
       "      <td>흰콩</td>\n",
       "    </tr>\n",
       "    <tr>\n",
       "      <th>3960</th>\n",
       "      <td>흰후추</td>\n",
       "    </tr>\n",
       "    <tr>\n",
       "      <th>1352</th>\n",
       "      <td>흰후춧가루</td>\n",
       "    </tr>\n",
       "  </tbody>\n",
       "</table>\n",
       "<p>632 rows × 1 columns</p>\n",
       "</div>"
      ],
      "text/plain": [
       "      iName\n",
       "1353    가는파\n",
       "5155  가다랑이포\n",
       "625     가래떡\n",
       "276     가리비\n",
       "3941  가쓰오브시\n",
       "...     ...\n",
       "4066   흰살생선\n",
       "58      흰설탕\n",
       "632      흰콩\n",
       "3960    흰후추\n",
       "1352  흰후춧가루\n",
       "\n",
       "[632 rows x 1 columns]"
      ]
     },
     "execution_count": 134,
     "metadata": {},
     "output_type": "execute_result"
    }
   ],
   "source": [
    "iName"
   ]
  },
  {
   "cell_type": "code",
   "execution_count": 136,
   "id": "e055bd18-4058-4aea-b133-3766ab822d13",
   "metadata": {},
   "outputs": [
    {
     "data": {
      "text/html": [
       "<div>\n",
       "<style scoped>\n",
       "    .dataframe tbody tr th:only-of-type {\n",
       "        vertical-align: middle;\n",
       "    }\n",
       "\n",
       "    .dataframe tbody tr th {\n",
       "        vertical-align: top;\n",
       "    }\n",
       "\n",
       "    .dataframe thead th {\n",
       "        text-align: right;\n",
       "    }\n",
       "</style>\n",
       "<table border=\"1\" class=\"dataframe\">\n",
       "  <thead>\n",
       "    <tr style=\"text-align: right;\">\n",
       "      <th></th>\n",
       "      <th>iName</th>\n",
       "    </tr>\n",
       "  </thead>\n",
       "  <tbody>\n",
       "    <tr>\n",
       "      <th>1</th>\n",
       "      <td>가는파</td>\n",
       "    </tr>\n",
       "    <tr>\n",
       "      <th>2</th>\n",
       "      <td>가다랑이포</td>\n",
       "    </tr>\n",
       "    <tr>\n",
       "      <th>3</th>\n",
       "      <td>가래떡</td>\n",
       "    </tr>\n",
       "    <tr>\n",
       "      <th>4</th>\n",
       "      <td>가리비</td>\n",
       "    </tr>\n",
       "    <tr>\n",
       "      <th>5</th>\n",
       "      <td>가쓰오브시</td>\n",
       "    </tr>\n",
       "    <tr>\n",
       "      <th>...</th>\n",
       "      <td>...</td>\n",
       "    </tr>\n",
       "    <tr>\n",
       "      <th>628</th>\n",
       "      <td>흰살생선</td>\n",
       "    </tr>\n",
       "    <tr>\n",
       "      <th>629</th>\n",
       "      <td>흰설탕</td>\n",
       "    </tr>\n",
       "    <tr>\n",
       "      <th>630</th>\n",
       "      <td>흰콩</td>\n",
       "    </tr>\n",
       "    <tr>\n",
       "      <th>631</th>\n",
       "      <td>흰후추</td>\n",
       "    </tr>\n",
       "    <tr>\n",
       "      <th>632</th>\n",
       "      <td>흰후춧가루</td>\n",
       "    </tr>\n",
       "  </tbody>\n",
       "</table>\n",
       "<p>632 rows × 1 columns</p>\n",
       "</div>"
      ],
      "text/plain": [
       "     iName\n",
       "1      가는파\n",
       "2    가다랑이포\n",
       "3      가래떡\n",
       "4      가리비\n",
       "5    가쓰오브시\n",
       "..     ...\n",
       "628   흰살생선\n",
       "629    흰설탕\n",
       "630     흰콩\n",
       "631    흰후추\n",
       "632  흰후춧가루\n",
       "\n",
       "[632 rows x 1 columns]"
      ]
     },
     "execution_count": 136,
     "metadata": {},
     "output_type": "execute_result"
    }
   ],
   "source": [
    "# 인덱스를 1부터 시작하게 수정\n",
    "iName.index = range(1, len(iName) + 1)\n",
    "iName"
   ]
  },
  {
   "cell_type": "code",
   "execution_count": 140,
   "id": "38f5386d-a2c8-44b9-afc7-eacc0978857d",
   "metadata": {},
   "outputs": [
    {
     "data": {
      "text/plain": [
       "632"
      ]
     },
     "execution_count": 140,
     "metadata": {},
     "output_type": "execute_result"
    }
   ],
   "source": [
    "iName.to_sql(name='ingredients', con=engine, if_exists='replace')"
   ]
  },
  {
   "cell_type": "code",
   "execution_count": null,
   "id": "1b7cb7d5-6198-4e93-9d27-d6747c04e90f",
   "metadata": {},
   "outputs": [],
   "source": []
  }
 ],
 "metadata": {
  "kernelspec": {
   "display_name": "Python 3 (ipykernel)",
   "language": "python",
   "name": "python3"
  },
  "language_info": {
   "codemirror_mode": {
    "name": "ipython",
    "version": 3
   },
   "file_extension": ".py",
   "mimetype": "text/x-python",
   "name": "python",
   "nbconvert_exporter": "python",
   "pygments_lexer": "ipython3",
   "version": "3.12.4"
  }
 },
 "nbformat": 4,
 "nbformat_minor": 5
}
